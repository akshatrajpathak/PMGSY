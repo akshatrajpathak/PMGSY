{
 "cells": [
  {
   "cell_type": "markdown",
   "id": "6f018ede",
   "metadata": {},
   "source": [
    "# 🛣️ PMGSY Intelligent Classification System using IBM AutoAI\n",
    "This notebook documents all steps taken to prepare data, run an AutoAI experiment, and deploy a machine learning model using IBM Watson Studio's AutoAI tool."
   ]
  },
  {
   "cell_type": "markdown",
   "id": "e17df394",
   "metadata": {},
   "source": [
    "## 📥 Step 1: Load and Explore the Dataset"
   ]
  },
  {
   "cell_type": "code",
   "execution_count": null,
   "id": "6910e63a",
   "metadata": {},
   "outputs": [],
   "source": [
    "import pandas as pd\n",
    "\n",
    "# Load dataset\n",
    "df = pd.read_csv('PMGSY_DATASET.csv')\n",
    "\n",
    "# View dataset shape and sample\n",
    "print('Shape:', df.shape)\n",
    "df.head()"
   ]
  },
  {
   "cell_type": "markdown",
   "id": "b0d17483",
   "metadata": {},
   "source": [
    "## 🧹 Step 2: Data Cleaning and Preprocessing"
   ]
  },
  {
   "cell_type": "code",
   "execution_count": null,
   "id": "0659149e",
   "metadata": {},
   "outputs": [],
   "source": [
    "# Drop empty column\n",
    "df.drop(columns=['Unnamed: 14'], inplace=True)\n",
    "\n",
    "# Fill missing values\n",
    "df['COST_OF_WORKS_SANCTIONED'].fillna(df['COST_OF_WORKS_SANCTIONED'].median(), inplace=True)\n",
    "\n",
    "# Save cleaned version for AutoAI upload\n",
    "df.to_csv('PMGSY_cleaned.csv', index=False)\n",
    "df.head()"
   ]
  },
  {
   "cell_type": "markdown",
   "id": "15f82a75",
   "metadata": {},
   "source": [
    "## 🤖 Step 3: Upload Dataset to IBM AutoAI\n",
    "**Action in Watson Studio:**\n",
    "- Create a new project and attach Cloud Object Storage.\n",
    "- Upload `PMGSY_cleaned.csv` to Data Assets.\n",
    "- Create an AutoAI experiment and choose `PMGSY_SCHEME` as the target column.\n",
    "- AutoAI will explore the data, try different models, and return the best pipeline based on accuracy.\n"
   ]
  },
  {
   "cell_type": "markdown",
   "id": "5d1e0b71",
   "metadata": {},
   "source": [
    "## ✅ Step 4: Review Leaderboard and Save the Best Model\n",
    "**Action:**\n",
    "- After AutoAI run completes, review the model leaderboard.\n",
    "- Select the top pipeline.\n",
    "- Click `Save as Model` to save it in your project."
   ]
  },
  {
   "cell_type": "markdown",
   "id": "5a248065",
   "metadata": {},
   "source": [
    "## 🚀 Step 5: Deploy Model as Web Service\n",
    "**Action in Watson Studio:**\n",
    "- Promote the saved model to a deployment space.\n",
    "- Create a new online deployment.\n",
    "- Copy the `deployment URL` and `API key` for testing or integration.\n"
   ]
  },
  {
   "cell_type": "markdown",
   "id": "1b5f4fa3",
   "metadata": {},
   "source": [
    "## 🌐 Step 6: Optional Web Interface (Flask)\n",
    "You can create a simple Flask app that takes input values and sends them to the IBM deployment URL using the API key.\n",
    "The app can display the predicted PMGSY scheme in a user-friendly format.\n",
    "\n",
    "See `app.py` in my repo for reference implementation."
   ]
  }
 ],
 "metadata": {
  "language_info": {
   "name": "python"
  }
 },
 "nbformat": 4,
 "nbformat_minor": 5
}
